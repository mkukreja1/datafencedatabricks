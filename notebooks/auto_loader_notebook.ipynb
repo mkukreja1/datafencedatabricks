{
 "cells": [
  {
   "cell_type": "code",
   "execution_count": 0,
   "metadata": {
    "application/vnd.databricks.v1+cell": {
     "cellMetadata": {
      "byteLimit": 2048000,
      "rowLimit": 10000
     },
     "inputWidgets": {},
     "nuid": "9a3b50d2-7bec-4a6c-8da3-53c5d96eadcc",
     "showTitle": false,
     "tableResultSettingsMap": {},
     "title": ""
    }
   },
   "outputs": [],
   "source": [
    "file_path = \"/Volumes/my_first_catalog/my_first_schema/my_staging_volume/staging_employees/\"\n",
    "\n",
    "stream_ingest = (spark.readStream\n",
    "    .format(\"cloudFiles\")\n",
    "    .option(\"cloudFiles.format\", \"json\")\n",
    "    .option(\"multiLine\", \"true\") \n",
    "    .option(\"cloudFiles.schemaLocation\", \"/Volumes/my_first_catalog/my_first_schema/my_staging_volume/staging_employees_checkpoint/\")\n",
    "    .option(\"mode\", \"DROPMALFORMED\")\n",
    "    .load(file_path)\n",
    "    .writeStream\n",
    "    .option(\"checkpointLocation\", \"/Volumes/my_first_catalog/my_first_schema/my_staging_volume/staging_employees_checkpoint/\")\n",
    "    .trigger(availableNow=True)\n",
    "    .table(\"my_first_catalog.my_first_schema.tbl_streaming_employees\")\n",
    "    .awaitTermination()\n",
    "    )\n"
   ]
  }
 ],
 "metadata": {
  "application/vnd.databricks.v1+notebook": {
   "computePreferences": null,
   "dashboards": [],
   "environmentMetadata": {
    "base_environment": "",
    "environment_version": "2"
   },
   "inputWidgetPreferences": null,
   "language": "python",
   "notebookMetadata": {
    "mostRecentlyExecutedCommandWithImplicitDF": {
     "commandId": 5413157647785162,
     "dataframes": [
      "_sqldf"
     ]
    },
    "pythonIndentUnit": 4
   },
   "notebookName": "auto_loader_notebook",
   "widgets": {}
  },
  "language_info": {
   "name": "python"
  }
 },
 "nbformat": 4,
 "nbformat_minor": 0
}