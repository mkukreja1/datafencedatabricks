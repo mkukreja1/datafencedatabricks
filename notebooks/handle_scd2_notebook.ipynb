{
 "cells": [
  {
   "cell_type": "code",
   "execution_count": 0,
   "metadata": {
    "application/vnd.databricks.v1+cell": {
     "cellMetadata": {
      "byteLimit": 2048000,
      "rowLimit": 10000
     },
     "inputWidgets": {},
     "nuid": "523bcfa5-79b6-4a63-82e5-d873928fe699",
     "showTitle": false,
     "tableResultSettingsMap": {},
     "title": ""
    }
   },
   "outputs": [],
   "source": [
    "import dlt\n",
    "from pyspark.sql.functions import col, expr\n",
    "\n",
    "@dlt.view\n",
    "def employees():\n",
    "  return spark.readStream.table(\"my_first_catalog.my_first_schema.tbl_scd2_employees_source\")\n",
    "\n",
    "dlt.create_streaming_table(\"my_first_catalog.my_first_schema.tbl_scd2_employees_target\")\n",
    "\n",
    "dlt.create_auto_cdc_flow(\n",
    "  target = \"my_first_catalog.my_first_schema.tbl_scd2_employees_target\",\n",
    "  source = \"employees\",\n",
    "  keys = [\"employee_id\"],\n",
    "  sequence_by = col(\"sequenceDate\"),\n",
    "  apply_as_deletes = expr(\"operation = 'DELETE'\"),\n",
    "  except_column_list = [\"operation\", \"sequenceDate\"],\n",
    "  stored_as_scd_type = \"2\"\n",
    ")"
   ]
  }
 ],
 "metadata": {
  "application/vnd.databricks.v1+notebook": {
   "computePreferences": null,
   "dashboards": [],
   "environmentMetadata": {
    "base_environment": "",
    "environment_version": "2"
   },
   "inputWidgetPreferences": null,
   "language": "python",
   "notebookMetadata": {
    "pythonIndentUnit": 4
   },
   "notebookName": "handle_scd2_notebook",
   "widgets": {}
  },
  "language_info": {
   "name": "python"
  }
 },
 "nbformat": 4,
 "nbformat_minor": 0
}