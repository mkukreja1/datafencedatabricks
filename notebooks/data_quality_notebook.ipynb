{
 "cells": [
  {
   "cell_type": "code",
   "execution_count": 0,
   "metadata": {
    "application/vnd.databricks.v1+cell": {
     "cellMetadata": {
      "byteLimit": 2048000,
      "rowLimit": 10000
     },
     "inputWidgets": {},
     "nuid": "60ac9a60-8557-4d91-a09d-404cc2071d42",
     "showTitle": false,
     "tableResultSettingsMap": {},
     "title": ""
    }
   },
   "outputs": [],
   "source": [
    "wc_df = spark.sql(\"SELECT * FROM my_first_catalog.my_first_schema.all_world_cup_players\")\n",
    "wc_df.createOrReplaceTempView(\"wc\")"
   ]
  },
  {
   "cell_type": "code",
   "execution_count": 0,
   "metadata": {
    "application/vnd.databricks.v1+cell": {
     "cellMetadata": {
      "byteLimit": 2048000,
      "implicitDf": true,
      "rowLimit": 10000
     },
     "inputWidgets": {},
     "nuid": "098c0201-621d-4aee-8604-990635a464db",
     "showTitle": false,
     "tableResultSettingsMap": {},
     "title": ""
    }
   },
   "outputs": [],
   "source": [
    "# Read the JSON file into a DataFrame\n",
    "df = spark.read.format(\"json\").option(\"multiline\",\"true\").load(\"/Volumes/my_first_catalog/my_first_schema/my_staging_volume/all-world-cup-players - nulls.json\")\n",
    "\n",
    "df.createOrReplaceTempView(\"wc_cdc\")\n",
    "df.show(5)"
   ]
  },
  {
   "cell_type": "code",
   "execution_count": 0,
   "metadata": {
    "application/vnd.databricks.v1+cell": {
     "cellMetadata": {
      "byteLimit": 2048000,
      "rowLimit": 10000
     },
     "inputWidgets": {},
     "nuid": "e6fedc1b-d1a5-4989-9f7c-2f7ea3abbe4c",
     "showTitle": false,
     "tableResultSettingsMap": {},
     "title": ""
    }
   },
   "outputs": [],
   "source": [
    "%%sql\n",
    "CREATE OR REPLACE TEMP VIEW wc_src AS \n",
    "SELECT DISTINCT * FROM wc_cdc;\n",
    "\n",
    "MERGE INTO my_first_catalog.my_first_schema.all_world_cup_players c\n",
    "USING wc_src u\n",
    "ON c.Year  = u.Year\n",
    "WHEN NOT MATCHED THEN \n",
    "  INSERT *;\n",
    "\n",
    "SELECT count(*) FROM my_first_catalog.my_first_schema.all_world_cup_players\n"
   ]
  }
 ],
 "metadata": {
  "application/vnd.databricks.v1+notebook": {
   "computePreferences": null,
   "dashboards": [],
   "environmentMetadata": {
    "base_environment": "",
    "environment_version": "2"
   },
   "inputWidgetPreferences": null,
   "language": "python",
   "notebookMetadata": {
    "mostRecentlyExecutedCommandWithImplicitDF": {
     "commandId": 4897452996528341,
     "dataframes": [
      "_sqldf"
     ]
    },
    "pythonIndentUnit": 4
   },
   "notebookName": "data_quality_notebook",
   "widgets": {}
  },
  "language_info": {
   "name": "python"
  }
 },
 "nbformat": 4,
 "nbformat_minor": 0
}