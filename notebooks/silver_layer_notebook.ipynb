{
 "cells": [
  {
   "cell_type": "code",
   "execution_count": 0,
   "metadata": {
    "application/vnd.databricks.v1+cell": {
     "cellMetadata": {
      "byteLimit": 2048000,
      "rowLimit": 10000
     },
     "inputWidgets": {},
     "nuid": "8728d561-e7fc-462b-86b9-94a7a481d1b0",
     "showTitle": false,
     "tableResultSettingsMap": {},
     "title": ""
    },
    "microsoft": {
     "language": "python",
     "language_group": "synapse_pyspark"
    },
    "nteract": {
     "transient": {
      "deleting": false
     }
    }
   },
   "outputs": [],
   "source": [
    "import requests, json\n",
    "import hashlib\n",
    "import datetime\n",
    "import pandas as pd \n",
    "from pyspark.sql.types import StructType, StructField, IntegerType, StringType, FloatType, ArrayType, DateType, TimestampType\n",
    "from pyspark.sql import functions as f\n",
    "from pyspark.sql.functions import udf, from_unixtime, unix_timestamp, to_date\n",
    "from datetime import timedelta, date\n",
    "from delta.tables import DeltaTable"
   ]
  },
  {
   "cell_type": "markdown",
   "metadata": {
    "application/vnd.databricks.v1+cell": {
     "cellMetadata": {},
     "inputWidgets": {},
     "nuid": "ed6e9b72-23af-4f51-a1b3-799202dbed20",
     "showTitle": false,
     "tableResultSettingsMap": {},
     "title": ""
    },
    "microsoft": {
     "language": "python",
     "language_group": "synapse_pyspark"
    },
    "nteract": {
     "transient": {
      "deleting": false
     }
    }
   },
   "source": [
    "### Set the constants for the silver layer job"
   ]
  },
  {
   "cell_type": "code",
   "execution_count": 0,
   "metadata": {
    "application/vnd.databricks.v1+cell": {
     "cellMetadata": {
      "byteLimit": 2048000,
      "rowLimit": 10000
     },
     "inputWidgets": {},
     "nuid": "3b35d124-0dc7-4c26-81fa-a880a224e02d",
     "showTitle": false,
     "tableResultSettingsMap": {},
     "title": ""
    },
    "microsoft": {
     "language": "python",
     "language_group": "synapse_pyspark"
    },
    "nteract": {
     "transient": {
      "deleting": false
     }
    }
   },
   "outputs": [],
   "source": [
    "const_timestamp = datetime.datetime.today().replace(second=0, microsecond=0)\n",
    "\n",
    "currency_api_url = r\"https://v6.exchangerate-api.com/v6/479d2c7b7ab257e9cdf338e5/latest/USD\"\n",
    "\n",
    "currency_api_schema = StructType([StructField(\"currency_name\", StringType(), True)\\\n",
    "                     ,StructField(\"currency_value\", FloatType(), True)])\n",
    "\n",
    "log_file_list = [\n",
    "    \"https://raw.githubusercontent.com/PacktPublishing/Data-Engineering-with-Apache-Spark-Delta-Lake-and-Lakehouse/main/project/prep/ecommerce_logs/electroniz_access_log_1.log\",\n",
    "    \"https://raw.githubusercontent.com/PacktPublishing/Data-Engineering-with-Apache-Spark-Delta-Lake-and-Lakehouse/main/project/prep/ecommerce_logs/electroniz_access_log_2.log\"\n",
    "    ]"
   ]
  },
  {
   "cell_type": "markdown",
   "metadata": {
    "application/vnd.databricks.v1+cell": {
     "cellMetadata": {},
     "inputWidgets": {},
     "nuid": "1fe06df1-1afe-49b0-8fdf-fae89f407576",
     "showTitle": false,
     "tableResultSettingsMap": {},
     "title": ""
    },
    "microsoft": {
     "language": "python",
     "language_group": "synapse_pyspark"
    },
    "nteract": {
     "transient": {
      "deleting": false
     }
    }
   },
   "source": [
    "### Create the silver delta tables using SQL statements"
   ]
  },
  {
   "cell_type": "code",
   "execution_count": 0,
   "metadata": {
    "application/vnd.databricks.v1+cell": {
     "cellMetadata": {
      "byteLimit": 2048000,
      "implicitDf": true,
      "rowLimit": 10000
     },
     "inputWidgets": {},
     "nuid": "043223e1-d72e-493d-aff3-3b0808a2940c",
     "showTitle": false,
     "tableResultSettingsMap": {},
     "title": ""
    }
   },
   "outputs": [],
   "source": [
    "\n",
    "%sql\n",
    "CREATE SCHEMA IF NOT EXISTS ctlg_electroniz.sch_silver;\n",
    "     \n"
   ]
  },
  {
   "cell_type": "code",
   "execution_count": 0,
   "metadata": {
    "application/vnd.databricks.v1+cell": {
     "cellMetadata": {
      "byteLimit": 2048000,
      "rowLimit": 10000
     },
     "inputWidgets": {},
     "nuid": "47d811e8-48df-4fa0-b87c-f21eb930233c",
     "showTitle": false,
     "tableResultSettingsMap": {},
     "title": ""
    },
    "collapsed": false,
    "microsoft": {
     "language": "sparksql",
     "language_group": "synapse_pyspark"
    },
    "nteract": {
     "transient": {
      "deleting": false
     }
    }
   },
   "outputs": [],
   "source": [
    "%%sql\n",
    "CREATE TABLE IF NOT EXISTS ctlg_electroniz.sch_silver.tbl_silver_customers \n",
    "(customer_id Integer,\n",
    "    customer_name String,\n",
    "    address String,\n",
    "    city String,\n",
    "    postalcode String,\n",
    "    country String,\n",
    "    phone String,\n",
    "    email String,\n",
    "    credit_card String,\n",
    "    updated_at Timestamp);\n",
    "\n",
    "CREATE TABLE IF NOT EXISTS ctlg_electroniz.sch_silver.tbl_silver_orders\n",
    "(order_number Integer,\n",
    "    customer_id Integer,\n",
    "    product_id Integer,\n",
    "    order_date Date,\n",
    "    units Integer,\n",
    "    sale_price Float,\n",
    "    currency String,\n",
    "    order_mode String,\n",
    "    sale_price_usd Float,\n",
    "    updated_at Timestamp);\n",
    "\n",
    "CREATE TABLE IF NOT EXISTS ctlg_electroniz.sch_silver.tbl_silver_products\n",
    "(product_id Integer,\n",
    "    product_name String,\n",
    "    product_category String,\n",
    "    updated_at Timestamp);\n",
    "\n",
    "CREATE TABLE IF NOT EXISTS ctlg_electroniz.sch_silver.tbl_silver_currency\n",
    "(currency_value Float,\n",
    "    currency_name String,\n",
    "    updated_at Timestamp);\n",
    "\n",
    "CREATE TABLE IF NOT EXISTS ctlg_electroniz.sch_silver.tbl_silver_iplocation\n",
    "(ip1 Integer,\n",
    "    ip2 Integer,\n",
    "    country_code String,\n",
    "    country_name String,\n",
    "    updated_at Timestamp);"
   ]
  },
  {
   "cell_type": "markdown",
   "metadata": {
    "application/vnd.databricks.v1+cell": {
     "cellMetadata": {},
     "inputWidgets": {},
     "nuid": "bde2c7fc-c3f4-4208-bb05-76fe3daf0cce",
     "showTitle": false,
     "tableResultSettingsMap": {},
     "title": ""
    },
    "microsoft": {
     "language": "python",
     "language_group": "synapse_pyspark"
    },
    "nteract": {
     "transient": {
      "deleting": false
     }
    }
   },
   "source": [
    "### Create the  delta tables using Pyspark API"
   ]
  },
  {
   "cell_type": "code",
   "execution_count": 0,
   "metadata": {
    "application/vnd.databricks.v1+cell": {
     "cellMetadata": {
      "byteLimit": 2048000,
      "rowLimit": 10000
     },
     "inputWidgets": {},
     "nuid": "7b325cc4-87ba-428e-ae5c-13077b04f35b",
     "showTitle": false,
     "tableResultSettingsMap": {},
     "title": ""
    },
    "microsoft": {
     "language": "python",
     "language_group": "synapse_pyspark"
    },
    "nteract": {
     "transient": {
      "deleting": false
     }
    }
   },
   "outputs": [],
   "source": [
    "#Create inventory silver Table\n",
    "DeltaTable.createIfNotExists(spark) \\\n",
    "    .tableName('ctlg_electroniz.sch_silver.tbl_silver_inventory') \\\n",
    "    .addColumn('inventory_date', 'Timestamp') \\\n",
    "    .addColumn('product', 'String') \\\n",
    "    .addColumn('inventory', 'Integer') \\\n",
    "    .addColumn('updated_at', 'Timestamp') \\\n",
    "\t.execute()\n",
    "    \n",
    "#Create LOGS silver Table\n",
    "DeltaTable.createIfNotExists(spark) \\\n",
    "    .tableName('ctlg_electroniz.sch_silver.tbl_silver_logs') \\\n",
    "    .addColumn('time', 'String') \\\n",
    "    .addColumn('remote_ip', 'String') \\\n",
    "    .addColumn('country_name', 'String') \\\n",
    "    .addColumn('ip_number', 'Integer') \\\n",
    "    .addColumn('request', 'String') \\\n",
    "    .addColumn('response', 'String') \\\n",
    "    .addColumn('agent', 'String') \\\n",
    "    .addColumn('updated_at', 'Timestamp') \\\n",
    "\t.execute()\n",
    "\n",
    "\n",
    "#Create ECOMM silver Table\n",
    "DeltaTable.createIfNotExists(spark) \\\n",
    "    .tableName('ctlg_electroniz.sch_silver.tbl_silver_ecommerce_orders') \\\n",
    "    .addColumn('customer_name', 'String') \\\n",
    "    .addColumn('address', 'String') \\\n",
    "    .addColumn('city', 'String') \\\n",
    "    .addColumn('country', 'String') \\\n",
    "    .addColumn('currency', 'String') \\\n",
    "    .addColumn('email', 'String') \\\n",
    "    .addColumn('order_date', 'Date') \\\n",
    "    .addColumn('order_mode', 'String') \\\n",
    "    .addColumn('order_number', 'Integer') \\\n",
    "    .addColumn('phone', 'String') \\\n",
    "    .addColumn('postalcode', 'String') \\\n",
    "    .addColumn('product_name', 'String') \\\n",
    "    .addColumn('sale_price', 'Float') \\\n",
    "    .addColumn('sale_price_usd', 'Float') \\\n",
    "    .addColumn('updated_at', 'Timestamp') \\\n",
    "\t.execute()"
   ]
  },
  {
   "cell_type": "markdown",
   "metadata": {
    "application/vnd.databricks.v1+cell": {
     "cellMetadata": {},
     "inputWidgets": {},
     "nuid": "c3b51d73-91e9-4008-aecc-b062a709aab6",
     "showTitle": false,
     "tableResultSettingsMap": {},
     "title": ""
    },
    "microsoft": {
     "language": "python",
     "language_group": "synapse_pyspark"
    },
    "nteract": {
     "transient": {
      "deleting": false
     }
    }
   },
   "source": [
    "### Register the PySpark UDFs\n",
    "### UDF’s are used to extend the functions of the framework and re-use them in multiple DataFrames."
   ]
  },
  {
   "cell_type": "code",
   "execution_count": 0,
   "metadata": {
    "application/vnd.databricks.v1+cell": {
     "cellMetadata": {
      "byteLimit": 2048000,
      "rowLimit": 10000
     },
     "inputWidgets": {},
     "nuid": "7a7c4be3-8fb1-4125-b2c9-ec12f10162e9",
     "showTitle": false,
     "tableResultSettingsMap": {},
     "title": ""
    },
    "microsoft": {
     "language": "python",
     "language_group": "synapse_pyspark"
    },
    "nteract": {
     "transient": {
      "deleting": false
     }
    }
   },
   "outputs": [],
   "source": [
    "def mask_value(col):\n",
    "  column = str(col)\n",
    "  mask_value = hashlib.sha256(column.encode()).hexdigest()\n",
    "  return mask_value\n",
    "\n",
    "def curate_email(email):\n",
    "  curated_value = email.lower()\n",
    "  return curated_value\n",
    "\n",
    "def curate_country(country):\n",
    "  if (country == 'USA' or country == 'United States'):\n",
    "    curated_value = 'USA'\n",
    "  elif (country == 'UK' or country == 'United Kingdom'):\n",
    "    curated_value = 'UK'\n",
    "  elif (country == 'CAN' or country == 'Canada'):\n",
    "    curated_value = 'CAN'\n",
    "  elif (country == 'IND' or country == 'India'):\n",
    "    curated_value = 'IND'\n",
    "  else:\n",
    "    curated_value = country\n",
    "  return curated_value\n",
    "\n",
    "def curate_sales_price(currency, currency_value, sales_price):\n",
    "  if (currency != 'USD'):\n",
    "    curated_value = float(sales_price)/float(currency_value)\n",
    "    return float(curated_value)\n",
    "  else:\n",
    "    return float(sales_price)\n",
    "\n",
    "def ip_to_country(ip):\n",
    "  ipsplit = ip.split(\".\")\n",
    "  ip_number=16777216*int(ipsplit[0]) + 65536*int(ipsplit[1]) + 256*int(ipsplit[2]) + int(ipsplit[3])  \n",
    "  return ip_number\n",
    "\n",
    "def read_api(url: str):\n",
    "    normalized_data = dict()\n",
    "    data = requests.get(currency_api_url).json() \n",
    "    normalized_data[\"_data\"] = data \n",
    "    return json.dumps(normalized_data)\n",
    "\n",
    "mask_udf = udf(mask_value, StringType())\n",
    "curate_email_udf = udf(curate_email, StringType())\n",
    "curate_country_udf = udf(curate_country, StringType())\n",
    "curate_sales_price_udf = udf(curate_sales_price, FloatType())\n",
    "ip_to_country_udf = udf(ip_to_country, StringType())"
   ]
  },
  {
   "cell_type": "markdown",
   "metadata": {
    "application/vnd.databricks.v1+cell": {
     "cellMetadata": {},
     "inputWidgets": {},
     "nuid": "a6eaa1ea-e4f5-49a1-86d6-a6c65e809e11",
     "showTitle": false,
     "tableResultSettingsMap": {},
     "title": ""
    },
    "microsoft": {
     "language": "python",
     "language_group": "synapse_pyspark"
    },
    "nteract": {
     "transient": {
      "deleting": false
     }
    }
   },
   "source": [
    "# Implement Data Quality Rule 1 - Mask PII Data\n",
    "![security.jpg](attachment:2d31f71f-58c8-4a76-83bc-e3cbd41b4774.jpg)"
   ]
  },
  {
   "cell_type": "markdown",
   "metadata": {
    "application/vnd.databricks.v1+cell": {
     "cellMetadata": {},
     "inputWidgets": {},
     "nuid": "f9e2f9a4-edd4-4b89-8d3c-c244eda37466",
     "showTitle": false,
     "tableResultSettingsMap": {},
     "title": ""
    },
    "microsoft": {
     "language": "python",
     "language_group": "synapse_pyspark"
    },
    "nteract": {
     "transient": {
      "deleting": false
     }
    }
   },
   "source": [
    "## Fetch customer data from bronze and apply data masking on PII columns"
   ]
  },
  {
   "cell_type": "code",
   "execution_count": 0,
   "metadata": {
    "application/vnd.databricks.v1+cell": {
     "cellMetadata": {
      "byteLimit": 2048000,
      "rowLimit": 10000
     },
     "inputWidgets": {},
     "nuid": "27d9d63b-5c8d-4c20-a477-ba4d1759074d",
     "showTitle": false,
     "tableResultSettingsMap": {},
     "title": ""
    },
    "microsoft": {
     "language": "python",
     "language_group": "synapse_pyspark"
    },
    "nteract": {
     "transient": {
      "deleting": false
     }
    }
   },
   "outputs": [],
   "source": [
    "cust_df = spark.sql(\"SELECT * FROM ctlg_electroniz.sch_bronze.tbl_bronze_customers\")\n",
    "curated_cust_df = cust_df.withColumn('email_curated',curate_email_udf('email')).drop('email').withColumnRenamed('email_curated', 'email')\n",
    "\n",
    "curated_cust_df = curated_cust_df.withColumn('country_curated',curate_country_udf('country')).drop('country').withColumnRenamed('country_curated', 'country')\n",
    " \n",
    "curated_cust_df = curated_cust_df.withColumn('phone_masked',mask_udf('phone')).drop('phone').withColumnRenamed('phone_masked', 'phone')\n",
    "curated_cust_df = curated_cust_df.withColumn('credit_card_masked',mask_udf('credit_card')).drop('credit_card').withColumnRenamed('credit_card_masked', 'credit_card')\n",
    "curated_cust_df = curated_cust_df.withColumn('credit_card_masked',mask_udf('credit_card')).drop('credit_card').withColumnRenamed('credit_card_masked', 'credit_card')\n",
    "curated_cust_df = curated_cust_df.withColumn('address_masked',mask_udf('address')).drop('address').withColumnRenamed('address_masked', 'address')\n",
    "curated_cust_df = curated_cust_df.withColumn('updated_at', f.lit(const_timestamp))\n",
    "curated_cust_df.createOrReplaceTempView(\"store_customers\")"
   ]
  },
  {
   "cell_type": "code",
   "execution_count": 0,
   "metadata": {
    "application/vnd.databricks.v1+cell": {
     "cellMetadata": {
      "byteLimit": 2048000,
      "rowLimit": 10000
     },
     "inputWidgets": {},
     "nuid": "94ace9ec-8d18-4450-b32a-7a7518425433",
     "showTitle": false,
     "tableResultSettingsMap": {},
     "title": ""
    }
   },
   "outputs": [],
   "source": [
    "display(curated_cust_df)"
   ]
  },
  {
   "cell_type": "markdown",
   "metadata": {
    "application/vnd.databricks.v1+cell": {
     "cellMetadata": {},
     "inputWidgets": {},
     "nuid": "6563976a-d394-4630-b531-bb0c5a3341c1",
     "showTitle": false,
     "tableResultSettingsMap": {},
     "title": ""
    },
    "microsoft": {
     "language": "python",
     "language_group": "synapse_pyspark"
    },
    "nteract": {
     "transient": {
      "deleting": false
     }
    }
   },
   "source": [
    "### Now merge the results to the customer silver table"
   ]
  },
  {
   "cell_type": "code",
   "execution_count": 0,
   "metadata": {
    "application/vnd.databricks.v1+cell": {
     "cellMetadata": {
      "byteLimit": 2048000,
      "rowLimit": 10000
     },
     "inputWidgets": {},
     "nuid": "ba2da21d-d223-43ff-a127-500de0169e78",
     "showTitle": false,
     "tableResultSettingsMap": {},
     "title": ""
    },
    "collapsed": false,
    "microsoft": {
     "language": "sparksql",
     "language_group": "synapse_pyspark"
    },
    "nteract": {
     "transient": {
      "deleting": false
     }
    }
   },
   "outputs": [],
   "source": [
    "%%sql\n",
    "CREATE OR REPLACE TEMP VIEW customers_src AS \n",
    "SELECT DISTINCT * FROM store_customers;\n",
    "\n",
    "MERGE INTO ctlg_electroniz.sch_silver.tbl_silver_customers c\n",
    "USING store_customers u\n",
    "ON c.customer_id = u.customer_id \n",
    "WHEN MATCHED THEN\n",
    "  UPDATE SET c.customer_id = u.customer_id, \n",
    "             c.customer_name = u.customer_name,\n",
    "             c.address = u.address,\n",
    "             c.city = u.city,\n",
    "             c.postalcode = u.postalcode,\n",
    "             c.country = u.country,\n",
    "             c.phone = u.phone,\n",
    "             c.email = u.email,\n",
    "             c.credit_card = u.credit_card,\n",
    "             c.updated_at = u.updated_at\n",
    "WHEN NOT MATCHED THEN \n",
    "  INSERT *;\n",
    "\n",
    "SELECT * FROM ctlg_electroniz.sch_silver.tbl_silver_customers LIMIT 5;"
   ]
  },
  {
   "cell_type": "markdown",
   "metadata": {
    "application/vnd.databricks.v1+cell": {
     "cellMetadata": {},
     "inputWidgets": {},
     "nuid": "2a5284ea-5043-44a9-b826-6618fd72cab3",
     "showTitle": false,
     "tableResultSettingsMap": {},
     "title": ""
    },
    "microsoft": {
     "language": "python",
     "language_group": "synapse_pyspark"
    },
    "nteract": {
     "transient": {
      "deleting": false
     }
    }
   },
   "source": [
    "# Implement Data Quality Rule 2 - Extract currency rates from JSON received from the REST API and convert all sales prices to USD and standardize date format\n",
    "![Untitled.png](attachment:82b70015-039b-414f-a7f8-d59653e10d77.png)"
   ]
  },
  {
   "cell_type": "markdown",
   "metadata": {
    "application/vnd.databricks.v1+cell": {
     "cellMetadata": {},
     "inputWidgets": {},
     "nuid": "02f4e828-fb09-4d26-b539-f38843db8b96",
     "showTitle": false,
     "tableResultSettingsMap": {},
     "title": ""
    },
    "microsoft": {
     "language": "python",
     "language_group": "synapse_pyspark"
    },
    "nteract": {
     "transient": {
      "deleting": false
     }
    }
   },
   "source": [
    "### Fetch data from REST API & create a Spark temporary table for the currency rates"
   ]
  },
  {
   "cell_type": "code",
   "execution_count": 0,
   "metadata": {
    "application/vnd.databricks.v1+cell": {
     "cellMetadata": {
      "byteLimit": 2048000,
      "rowLimit": 10000
     },
     "inputWidgets": {},
     "nuid": "3183d673-8f8b-4ce2-9e8a-61e73a018c8f",
     "showTitle": false,
     "tableResultSettingsMap": {},
     "title": ""
    },
    "microsoft": {
     "language": "python",
     "language_group": "synapse_pyspark"
    },
    "nteract": {
     "transient": {
      "deleting": false
     }
    }
   },
   "outputs": [],
   "source": [
    "payload = json.loads(read_api(currency_api_url))\n",
    "result = payload.get('_data')\n",
    "rates = result.get('conversion_rates')\n",
    "rates[\"USD\"] = 1.00\n",
    "\n",
    "ratesList = list(rates.items())\n",
    "rates_df = spark.createDataFrame(ratesList,schema=currency_api_schema)\n",
    "rates_df = rates_df.withColumn('updated_at', f.lit(const_timestamp))\n",
    "rates_df.createOrReplaceTempView(\"currency_src\")"
   ]
  },
  {
   "cell_type": "markdown",
   "metadata": {
    "application/vnd.databricks.v1+cell": {
     "cellMetadata": {},
     "inputWidgets": {},
     "nuid": "23f2549c-6c30-45e2-b3ff-64db164f0c78",
     "showTitle": false,
     "tableResultSettingsMap": {},
     "title": ""
    },
    "microsoft": {
     "language": "python",
     "language_group": "synapse_pyspark"
    },
    "nteract": {
     "transient": {
      "deleting": false
     }
    }
   },
   "source": [
    "### Now merge the results from the current API to the currency silver table"
   ]
  },
  {
   "cell_type": "code",
   "execution_count": 0,
   "metadata": {
    "application/vnd.databricks.v1+cell": {
     "cellMetadata": {
      "byteLimit": 2048000,
      "rowLimit": 10000
     },
     "inputWidgets": {},
     "nuid": "65c684c8-e993-4e38-af59-9e36837ec0a3",
     "showTitle": false,
     "tableResultSettingsMap": {},
     "title": ""
    },
    "collapsed": false,
    "microsoft": {
     "language": "sparksql",
     "language_group": "synapse_pyspark"
    },
    "nteract": {
     "transient": {
      "deleting": false
     }
    }
   },
   "outputs": [],
   "source": [
    "%%sql\n",
    "\n",
    "MERGE INTO ctlg_electroniz.sch_silver.tbl_silver_currency c\n",
    "USING currency_src u\n",
    "ON c.currency_name  = u.currency_name \n",
    "WHEN MATCHED THEN\n",
    "  UPDATE SET c.currency_value = u.currency_value, \n",
    "             c.updated_at = u.updated_at\n",
    "WHEN NOT MATCHED THEN \n",
    "  INSERT *;\n",
    "\n",
    "SELECT * FROM ctlg_electroniz.sch_silver.tbl_silver_currency LIMIT 5;"
   ]
  },
  {
   "cell_type": "markdown",
   "metadata": {
    "application/vnd.databricks.v1+cell": {
     "cellMetadata": {},
     "inputWidgets": {},
     "nuid": "bac78bca-a0ec-4e69-8285-e4f587a238e8",
     "showTitle": false,
     "tableResultSettingsMap": {},
     "title": ""
    },
    "microsoft": {
     "language": "python",
     "language_group": "synapse_pyspark"
    },
    "nteract": {
     "transient": {
      "deleting": false
     }
    }
   },
   "source": [
    "### Apply the curate_sales_price_udf for conversion of base currency to USD. Also change the date format to a standard format of MM/dd/yyyy."
   ]
  },
  {
   "cell_type": "code",
   "execution_count": 0,
   "metadata": {
    "application/vnd.databricks.v1+cell": {
     "cellMetadata": {
      "byteLimit": 2048000,
      "implicitDf": true,
      "rowLimit": 10000
     },
     "inputWidgets": {},
     "nuid": "1cf30fa9-f256-43d5-af66-1a0e6e78a392",
     "showTitle": false,
     "tableResultSettingsMap": {},
     "title": ""
    }
   },
   "outputs": [],
   "source": [
    "%sql\n",
    "DELETE FROM ctlg_electroniz.sch_silver.tbl_silver_orders"
   ]
  },
  {
   "cell_type": "code",
   "execution_count": 0,
   "metadata": {
    "application/vnd.databricks.v1+cell": {
     "cellMetadata": {
      "byteLimit": 2048000,
      "rowLimit": 10000
     },
     "inputWidgets": {},
     "nuid": "1c7bce4d-66f1-48c3-936a-7ad78f42a7e9",
     "showTitle": false,
     "tableResultSettingsMap": {},
     "title": ""
    },
    "microsoft": {
     "language": "python",
     "language_group": "synapse_pyspark"
    },
    "nteract": {
     "transient": {
      "deleting": false
     }
    }
   },
   "outputs": [],
   "source": [
    "order_df = spark.sql(\"SELECT * FROM ctlg_electroniz.sch_bronze.tbl_bronze_orders\")\n",
    "usd_df = spark.sql(\"\"\"SELECT currency_name AS currency, currency_value \n",
    "                        FROM currency_src \n",
    "                       WHERE currency_name = 'USD'\"\"\")\n",
    "     \n",
    "curated_order_df = order_df.join(usd_df, on=['currency'], how=\"inner\")\n",
    "curated_order_df = curated_order_df.withColumn('sale_price_usd',curate_sales_price_udf('currency', 'currency_value', 'sale_price'))\n",
    "curated_order_df = curated_order_df.withColumn('updated_at', f.lit(const_timestamp))\n",
    "curated_order_df = curated_order_df.withColumn('order_date_new', f.to_date(curated_order_df.order_date, 'MM/dd/yyyy')).drop('order_date').withColumnRenamed('order_date_new', 'order_date')\n",
    "curated_order_df = curated_order_df.drop('currency_value')\n",
    "curated_order_df.createOrReplaceTempView(\"store_orders\")\n",
    "#display(curated_order_df)\n",
    "curated_order_df.count()"
   ]
  },
  {
   "cell_type": "markdown",
   "metadata": {
    "application/vnd.databricks.v1+cell": {
     "cellMetadata": {},
     "inputWidgets": {},
     "nuid": "1d32e591-c22a-4951-bf2d-78328fbba468",
     "showTitle": false,
     "tableResultSettingsMap": {},
     "title": ""
    },
    "microsoft": {
     "language": "python",
     "language_group": "synapse_pyspark"
    },
    "nteract": {
     "transient": {
      "deleting": false
     }
    }
   },
   "source": [
    "### Now merge the curated results to the store orders silver table"
   ]
  },
  {
   "cell_type": "code",
   "execution_count": 0,
   "metadata": {
    "application/vnd.databricks.v1+cell": {
     "cellMetadata": {
      "byteLimit": 2048000,
      "rowLimit": 10000
     },
     "inputWidgets": {},
     "nuid": "68571e86-c86a-4e04-b689-ef7b9037fdc9",
     "showTitle": false,
     "tableResultSettingsMap": {},
     "title": ""
    },
    "collapsed": false,
    "microsoft": {
     "language": "sparksql",
     "language_group": "synapse_pyspark"
    },
    "nteract": {
     "transient": {
      "deleting": false
     }
    }
   },
   "outputs": [],
   "source": [
    "%%sql\n",
    "CREATE OR REPLACE TEMP VIEW store_orders_src AS \n",
    "SELECT DISTINCT * FROM store_orders;\n",
    "\n",
    "MERGE INTO ctlg_electroniz.sch_silver.tbl_silver_orders c\n",
    "USING store_orders_src u\n",
    "ON c.order_number  = u.order_number  \n",
    "WHEN MATCHED THEN\n",
    "  UPDATE SET c.order_number = u.order_number, \n",
    "             c.customer_id = u.customer_id,\n",
    "             c.product_id = u.product_id,\n",
    "             c.order_date = u.order_date, \n",
    "             c.units = u.units,\n",
    "             c.sale_price = u.sale_price,\n",
    "             c.sale_price_usd = u.sale_price_usd,\n",
    "             c.currency = u.currency,\n",
    "             c.order_mode = u.order_mode,\n",
    "             c.updated_at = u.updated_at\n",
    "WHEN NOT MATCHED THEN \n",
    "  INSERT *;\n",
    "\n",
    "SELECT * FROM ctlg_electroniz.sch_silver.tbl_silver_orders LIMIT 5;\n",
    "\n"
   ]
  },
  {
   "cell_type": "markdown",
   "metadata": {
    "application/vnd.databricks.v1+cell": {
     "cellMetadata": {},
     "inputWidgets": {},
     "nuid": "3258e377-8a4a-4e58-a14b-82c2d7369107",
     "showTitle": false,
     "tableResultSettingsMap": {},
     "title": ""
    },
    "microsoft": {
     "language": "python",
     "language_group": "synapse_pyspark"
    },
    "nteract": {
     "transient": {
      "deleting": false
     }
    }
   },
   "source": [
    "### Curate Products data"
   ]
  },
  {
   "cell_type": "code",
   "execution_count": 0,
   "metadata": {
    "application/vnd.databricks.v1+cell": {
     "cellMetadata": {
      "byteLimit": 2048000,
      "rowLimit": 10000
     },
     "inputWidgets": {},
     "nuid": "502b301b-22a8-45b3-ba78-800f4c9bf06e",
     "showTitle": false,
     "tableResultSettingsMap": {},
     "title": ""
    },
    "microsoft": {
     "language": "python",
     "language_group": "synapse_pyspark"
    },
    "nteract": {
     "transient": {
      "deleting": false
     }
    }
   },
   "outputs": [],
   "source": [
    "products_df = spark.sql(\"SELECT * FROM ctlg_electroniz.sch_bronze.tbl_bronze_products\")\n",
    "curated_products_df = products_df.withColumn('updated_at', f.lit(const_timestamp))\n",
    "curated_products_df = curated_products_df.withColumnRenamed('product_code','product_id')\n",
    "curated_products_df.createOrReplaceTempView(\"products\")"
   ]
  },
  {
   "cell_type": "markdown",
   "metadata": {
    "application/vnd.databricks.v1+cell": {
     "cellMetadata": {},
     "inputWidgets": {},
     "nuid": "078e9849-3692-4e35-9a3d-10f9a1c00d44",
     "showTitle": false,
     "tableResultSettingsMap": {},
     "title": ""
    },
    "microsoft": {
     "language": "python",
     "language_group": "synapse_pyspark"
    },
    "nteract": {
     "transient": {
      "deleting": false
     }
    }
   },
   "source": [
    "### Now merge the curated results to the products silver table"
   ]
  },
  {
   "cell_type": "code",
   "execution_count": 0,
   "metadata": {
    "application/vnd.databricks.v1+cell": {
     "cellMetadata": {
      "byteLimit": 2048000,
      "implicitDf": true,
      "rowLimit": 10000
     },
     "inputWidgets": {},
     "nuid": "42514bb3-bccc-46f8-8cab-3984d67f0176",
     "showTitle": false,
     "tableResultSettingsMap": {},
     "title": ""
    },
    "collapsed": false,
    "microsoft": {
     "language": "sparksql",
     "language_group": "synapse_pyspark"
    },
    "nteract": {
     "transient": {
      "deleting": false
     }
    }
   },
   "outputs": [],
   "source": [
    "%sql\n",
    "CREATE OR REPLACE TEMP VIEW products_src AS\n",
    "SELECT DISTINCT\n",
    "  *\n",
    "FROM\n",
    "  products;\n",
    "\n",
    "MERGE INTO\n",
    "  ctlg_electroniz.sch_silver.tbl_silver_products c\n",
    "USING\n",
    "  products_src u\n",
    "ON\n",
    "  c.product_id = u.product_cde\n",
    "WHEN MATCHED THEN UPDATE SET\n",
    "  c.product_id = u.product_cde,\n",
    "  c.product_name = u.product_name,\n",
    "  c.product_category = u.product_category,\n",
    "  c.updated_at = u.updated_at\n",
    "WHEN NOT MATCHED THEN INSERT (product_id, product_name, product_category, updated_at)\n",
    "  VALUES (u.product_cde, u.product_name, u.product_category, u.updated_at);"
   ]
  },
  {
   "cell_type": "code",
   "execution_count": 0,
   "metadata": {
    "application/vnd.databricks.v1+cell": {
     "cellMetadata": {
      "byteLimit": 2048000,
      "implicitDf": true,
      "rowLimit": 10000
     },
     "inputWidgets": {},
     "nuid": "b7e6abf8-1e28-482e-99b9-c0ed4c65a4d9",
     "showTitle": false,
     "tableResultSettingsMap": {},
     "title": ""
    }
   },
   "outputs": [],
   "source": [
    "%sql\n",
    "SELECT * FROM ctlg_electroniz.sch_silver.tbl_silver_products;"
   ]
  },
  {
   "cell_type": "markdown",
   "metadata": {
    "application/vnd.databricks.v1+cell": {
     "cellMetadata": {},
     "inputWidgets": {},
     "nuid": "501c0c1e-76e3-4d36-ab7e-c4bdfaaf12a1",
     "showTitle": false,
     "tableResultSettingsMap": {},
     "title": ""
    },
    "microsoft": {
     "language": "python",
     "language_group": "synapse_pyspark"
    },
    "nteract": {
     "transient": {
      "deleting": false
     }
    }
   },
   "source": [
    "# Implement Data Quality Rule 3 - Deal with non-uniform data related to country names in varying formats\n",
    "![New Bitmap image.jpg](attachment:c1b54db3-12d5-494f-97ac-90e7e9d5df2c.jpg)"
   ]
  },
  {
   "cell_type": "markdown",
   "metadata": {
    "application/vnd.databricks.v1+cell": {
     "cellMetadata": {},
     "inputWidgets": {},
     "nuid": "f9fdcd8b-3b4e-4091-a7bb-646d3f61484b",
     "showTitle": false,
     "tableResultSettingsMap": {},
     "title": ""
    },
    "microsoft": {
     "language": "python",
     "language_group": "synapse_pyspark"
    },
    "nteract": {
     "transient": {
      "deleting": false
     }
    }
   },
   "source": [
    "### Gather e-commerce sales data that is available in the Kusto Database."
   ]
  },
  {
   "cell_type": "code",
   "execution_count": 0,
   "metadata": {
    "application/vnd.databricks.v1+cell": {
     "cellMetadata": {
      "byteLimit": 2048000,
      "rowLimit": 10000
     },
     "inputWidgets": {},
     "nuid": "9ad4f3b2-1025-438b-8408-d302d4c0517b",
     "showTitle": false,
     "tableResultSettingsMap": {},
     "title": ""
    },
    "collapsed": false,
    "microsoft": {
     "language": "python",
     "language_group": "synapse_pyspark"
    },
    "nteract": {
     "transient": {
      "deleting": false
     }
    }
   },
   "outputs": [],
   "source": [
    "ecommerce_df = spark.sql(\"SELECT * FROM ctlg_electroniz.sch_bronze.tbl_bronze_ecommerce\")\n",
    "\n",
    "display(ecommerce_df)"
   ]
  },
  {
   "cell_type": "markdown",
   "metadata": {
    "application/vnd.databricks.v1+cell": {
     "cellMetadata": {},
     "inputWidgets": {},
     "nuid": "c3b682e3-de2d-4959-921c-06cbe74696f6",
     "showTitle": false,
     "tableResultSettingsMap": {},
     "title": ""
    },
    "nteract": {
     "transient": {
      "deleting": false
     }
    }
   },
   "source": [
    "### Apply the curation UDF's for masking PII data, conversion of base currency to USD, date format to a standard format of MM/dd/yyyy."
   ]
  },
  {
   "cell_type": "code",
   "execution_count": 0,
   "metadata": {
    "application/vnd.databricks.v1+cell": {
     "cellMetadata": {
      "byteLimit": 2048000,
      "rowLimit": 10000
     },
     "inputWidgets": {},
     "nuid": "aa8ce508-6523-4ca2-80b2-cd69e6eaa4aa",
     "showTitle": false,
     "tableResultSettingsMap": {},
     "title": ""
    },
    "microsoft": {
     "language": "python",
     "language_group": "synapse_pyspark"
    },
    "nteract": {
     "transient": {
      "deleting": false
     }
    }
   },
   "outputs": [],
   "source": [
    "curated_ecom_df = ecommerce_df.withColumn('updated_at', f.lit(const_timestamp))\n",
    "curated_ecom_df = curated_ecom_df.withColumn('phone_masked',mask_udf('phone')).drop('phone').withColumnRenamed('phone_masked', 'phone')\n",
    "curated_ecom_df = curated_ecom_df.withColumn('address_masked',mask_udf('address')).drop('address').withColumnRenamed('address_masked', 'address')\n",
    "curated_ecom_df = curated_ecom_df.withColumn('order_date', from_unixtime(unix_timestamp('order_date', 'dd/MM/yyy')))\n",
    "curated_ecom_df = curated_ecom_df.withColumn('country_curated',curate_country_udf('country')).drop('country').withColumnRenamed('country_curated', 'country')\n",
    "  \n",
    "curated_ecom_df = curated_ecom_df.join(usd_df, on=['currency'], how=\"inner\")\n",
    "curated_ecom_df = curated_ecom_df.withColumn('sale_price_usd',curate_sales_price_udf('currency', 'currency_value', 'sale_price'))\n",
    "\n",
    "curated_ecom_df = curated_ecom_df.withColumn('order_date_new', to_date(curated_ecom_df.order_date, 'yyyy-MM-dd HH:mm:ss')).drop('order_date').withColumnRenamed('order_date_new', 'order_date')\n",
    "\n",
    "curated_ecom_df.createOrReplaceTempView(\"ecommerce_orders\")"
   ]
  },
  {
   "cell_type": "code",
   "execution_count": 0,
   "metadata": {
    "application/vnd.databricks.v1+cell": {
     "cellMetadata": {
      "byteLimit": 2048000,
      "rowLimit": 10000
     },
     "inputWidgets": {},
     "nuid": "d3d4fb02-1f99-45eb-81ce-9517ea1d64be",
     "showTitle": false,
     "tableResultSettingsMap": {},
     "title": ""
    }
   },
   "outputs": [],
   "source": [
    "display(curated_ecom_df)"
   ]
  },
  {
   "cell_type": "markdown",
   "metadata": {
    "application/vnd.databricks.v1+cell": {
     "cellMetadata": {},
     "inputWidgets": {},
     "nuid": "7ad1c065-9cdd-4e62-9937-85e3a4ee8456",
     "showTitle": false,
     "tableResultSettingsMap": {},
     "title": ""
    },
    "microsoft": {
     "language": "python",
     "language_group": "synapse_pyspark"
    },
    "nteract": {
     "transient": {
      "deleting": false
     }
    }
   },
   "source": [
    "### Now merge the curated results to the ecommerce orders silver table"
   ]
  },
  {
   "cell_type": "code",
   "execution_count": 0,
   "metadata": {
    "application/vnd.databricks.v1+cell": {
     "cellMetadata": {
      "byteLimit": 2048000,
      "rowLimit": 10000
     },
     "inputWidgets": {},
     "nuid": "06f3002e-3de7-46bd-84ed-48adfbc5929c",
     "showTitle": false,
     "tableResultSettingsMap": {},
     "title": ""
    },
    "collapsed": false,
    "microsoft": {
     "language": "sparksql",
     "language_group": "synapse_pyspark"
    },
    "nteract": {
     "transient": {
      "deleting": false
     }
    }
   },
   "outputs": [],
   "source": [
    "%%sql\n",
    "CREATE OR REPLACE TEMP VIEW ecommerce_orders_src AS \n",
    "SELECT DISTINCT * FROM ecommerce_orders;\n",
    "\n",
    "MERGE INTO ctlg_electroniz.sch_silver.tbl_silver_ecommerce_orders c\n",
    "USING ecommerce_orders_src u\n",
    "ON c.email  = u.email\n",
    "WHEN MATCHED THEN\n",
    "  UPDATE SET c.customer_name = u.customer_name, \n",
    "             c.address = u.address,\n",
    "             c.city = u.city,\n",
    "             c.country = u.country,\n",
    "             c.currency = u.currency,\n",
    "             c.email = u.email,\n",
    "             c.order_date = u.order_date,\n",
    "             c.order_mode = u.order_mode,\n",
    "             c.order_number = u.order_number,\n",
    "             c.phone = u.phone,\n",
    "             c.postalcode = u.postalcode,\n",
    "             c.product_name = u.product_name,\n",
    "             c.sale_price = u.sale_price,\n",
    "             c.sale_price_usd = u.sale_price_usd,\n",
    "             c.updated_at = u.updated_at\n",
    "WHEN NOT MATCHED THEN \n",
    "  INSERT *;\n",
    "\n",
    "SELECT * FROM ctlg_electroniz.sch_silver.tbl_silver_ecommerce_orders LIMIT 5;"
   ]
  },
  {
   "cell_type": "markdown",
   "metadata": {
    "application/vnd.databricks.v1+cell": {
     "cellMetadata": {},
     "inputWidgets": {},
     "nuid": "883a6c8a-2dcf-44b6-96ab-2d19de0caa6d",
     "showTitle": false,
     "tableResultSettingsMap": {},
     "title": ""
    },
    "microsoft": {
     "language": "python",
     "language_group": "synapse_pyspark"
    },
    "nteract": {
     "transient": {
      "deleting": false
     }
    }
   },
   "source": [
    "# Implement Data Quality Rule 3 - Process website tracking locations to map IP addresses of visitors to the e-commerce to country of origin.\n",
    "![Untitled.png](attachment:3d853338-d60a-4aa7-9612-1eb82ecaa314.png)"
   ]
  },
  {
   "cell_type": "markdown",
   "metadata": {
    "application/vnd.databricks.v1+cell": {
     "cellMetadata": {},
     "inputWidgets": {},
     "nuid": "d00edcee-02ce-4329-b7e2-e0c1fcd4f5b7",
     "showTitle": false,
     "tableResultSettingsMap": {},
     "title": ""
    },
    "microsoft": {
     "language": "python",
     "language_group": "synapse_pyspark"
    },
    "nteract": {
     "transient": {
      "deleting": false
     }
    }
   },
   "source": [
    "### Read the bronze geolocation data "
   ]
  },
  {
   "cell_type": "code",
   "execution_count": 0,
   "metadata": {
    "application/vnd.databricks.v1+cell": {
     "cellMetadata": {
      "byteLimit": 2048000,
      "rowLimit": 10000
     },
     "inputWidgets": {},
     "nuid": "36d81af7-d00b-4544-a70f-2aff45539935",
     "showTitle": false,
     "tableResultSettingsMap": {},
     "title": ""
    },
    "microsoft": {
     "language": "python",
     "language_group": "synapse_pyspark"
    },
    "nteract": {
     "transient": {
      "deleting": false
     }
    }
   },
   "outputs": [],
   "source": [
    "iplocation_df = spark.sql(\"SELECT * FROM ctlg_electroniz.sch_bronze.tbl_bronze_iplocation\")\n",
    "curated_iplocation_df = iplocation_df.withColumn('updated_at', f.lit(const_timestamp))\n",
    "curated_iplocation_df.createOrReplaceTempView(\"iplocation\")"
   ]
  },
  {
   "cell_type": "markdown",
   "metadata": {
    "application/vnd.databricks.v1+cell": {
     "cellMetadata": {},
     "inputWidgets": {},
     "nuid": "335d66fe-5294-445d-ab37-8669e64dfe51",
     "showTitle": false,
     "tableResultSettingsMap": {},
     "title": ""
    },
    "microsoft": {
     "language": "python",
     "language_group": "synapse_pyspark"
    },
    "nteract": {
     "transient": {
      "deleting": false
     }
    }
   },
   "source": [
    "### Now merge the curated results to the geolocation silver table"
   ]
  },
  {
   "cell_type": "code",
   "execution_count": 0,
   "metadata": {
    "application/vnd.databricks.v1+cell": {
     "cellMetadata": {
      "byteLimit": 2048000,
      "rowLimit": 10000
     },
     "inputWidgets": {},
     "nuid": "09dd74a4-5d25-4427-aec0-4267f130277a",
     "showTitle": false,
     "tableResultSettingsMap": {},
     "title": ""
    },
    "collapsed": false,
    "microsoft": {
     "language": "sparksql",
     "language_group": "synapse_pyspark"
    },
    "nteract": {
     "transient": {
      "deleting": false
     }
    }
   },
   "outputs": [],
   "source": [
    "%%sql\n",
    "CREATE OR REPLACE TEMP VIEW iplocation_src AS \n",
    "SELECT DISTINCT * FROM iplocation;\n",
    "\n",
    "MERGE INTO ctlg_electroniz.sch_silver.tbl_silver_iplocation c\n",
    "USING iplocation_src u\n",
    "ON c.ip1  = u.ip1\n",
    "WHEN MATCHED THEN\n",
    "  UPDATE SET c.ip1 = u.ip1, \n",
    "             c.ip2 = u.ip2,\n",
    "             c.country_code = u.country_code,\n",
    "             c.country_name = u.country_name,\n",
    "             c.updated_at = u.updated_at\n",
    "WHEN NOT MATCHED THEN \n",
    "  INSERT *;\n",
    "\n",
    "SELECT * FROM ctlg_electroniz.sch_silver.tbl_silver_iplocation LIMIT 5;\n",
    "     "
   ]
  },
  {
   "cell_type": "markdown",
   "metadata": {
    "application/vnd.databricks.v1+cell": {
     "cellMetadata": {},
     "inputWidgets": {},
     "nuid": "fe599385-2c30-40c7-ad27-c4e404a2c3f2",
     "showTitle": false,
     "tableResultSettingsMap": {},
     "title": ""
    },
    "microsoft": {
     "language": "python",
     "language_group": "synapse_pyspark"
    },
    "nteract": {
     "transient": {
      "deleting": false
     }
    }
   },
   "source": [
    "### Use the Pandas library to read website logs"
   ]
  },
  {
   "cell_type": "code",
   "execution_count": 0,
   "metadata": {
    "application/vnd.databricks.v1+cell": {
     "cellMetadata": {
      "byteLimit": 2048000,
      "rowLimit": 10000
     },
     "inputWidgets": {},
     "nuid": "6de59cbe-4c64-4799-a5b0-69d7daaf49e7",
     "showTitle": false,
     "tableResultSettingsMap": {},
     "title": ""
    },
    "microsoft": {
     "language": "python",
     "language_group": "synapse_pyspark"
    },
    "nteract": {
     "transient": {
      "deleting": false
     }
    }
   },
   "outputs": [],
   "source": [
    "pd_dfs = [] \n",
    "\n",
    "for file in log_file_list:\n",
    "    data = pd.read_json(file, lines=True) \n",
    "    pd_dfs.append(data) \n",
    "\n",
    "pd_df = pd.concat(pd_dfs, ignore_index=True)"
   ]
  },
  {
   "cell_type": "markdown",
   "metadata": {
    "application/vnd.databricks.v1+cell": {
     "cellMetadata": {},
     "inputWidgets": {},
     "nuid": "7b237e45-8f67-48cb-bcbe-ac4cfda51337",
     "showTitle": false,
     "tableResultSettingsMap": {},
     "title": ""
    },
    "nteract": {
     "transient": {
      "deleting": false
     }
    }
   },
   "source": [
    "### Convert the pandas dataframe to a spark dataframe. Apply ip_to_country_udf UDF to map IP address to country."
   ]
  },
  {
   "cell_type": "code",
   "execution_count": 0,
   "metadata": {
    "application/vnd.databricks.v1+cell": {
     "cellMetadata": {
      "byteLimit": 2048000,
      "rowLimit": 10000
     },
     "inputWidgets": {},
     "nuid": "a2064a08-5e69-4907-85f7-566cdfb3e2c3",
     "showTitle": false,
     "tableResultSettingsMap": {},
     "title": ""
    },
    "microsoft": {
     "language": "python",
     "language_group": "synapse_pyspark"
    },
    "nteract": {
     "transient": {
      "deleting": false
     }
    }
   },
   "outputs": [],
   "source": [
    "logs_df = spark.createDataFrame(pd_df)\n",
    "curated_logs_df = logs_df.withColumn('updated_at', f.lit(const_timestamp))\n",
    "curated_logs_df = curated_logs_df.withColumn('time', from_unixtime(unix_timestamp('time', 'dd/MM/yyy:HH:m:ss')))\n",
    "curated_logs_df = curated_logs_df.withColumn('ip_number',ip_to_country_udf('remote_ip'))\n",
    "curated_logs_df.createOrReplaceTempView('logs')"
   ]
  },
  {
   "cell_type": "code",
   "execution_count": 0,
   "metadata": {
    "application/vnd.databricks.v1+cell": {
     "cellMetadata": {
      "byteLimit": 2048000,
      "rowLimit": 10000
     },
     "inputWidgets": {},
     "nuid": "68c61465-23d4-4c27-b197-a0508f0e0dd0",
     "showTitle": false,
     "tableResultSettingsMap": {},
     "title": ""
    }
   },
   "outputs": [],
   "source": [
    "display(curated_logs_df)"
   ]
  },
  {
   "cell_type": "markdown",
   "metadata": {
    "application/vnd.databricks.v1+cell": {
     "cellMetadata": {},
     "inputWidgets": {},
     "nuid": "a634e0fa-d1c6-4d54-90dc-a04465ddd81f",
     "showTitle": false,
     "tableResultSettingsMap": {},
     "title": ""
    },
    "microsoft": {
     "language": "python",
     "language_group": "synapse_pyspark"
    },
    "nteract": {
     "transient": {
      "deleting": false
     }
    }
   },
   "source": [
    "### Now merge the curated results to the website logs silver table"
   ]
  },
  {
   "cell_type": "code",
   "execution_count": 0,
   "metadata": {
    "application/vnd.databricks.v1+cell": {
     "cellMetadata": {
      "byteLimit": 2048000,
      "rowLimit": 10000
     },
     "inputWidgets": {},
     "nuid": "c6641b26-e9a6-47d9-a13e-b8d162fa04c0",
     "showTitle": false,
     "tableResultSettingsMap": {},
     "title": ""
    },
    "collapsed": false,
    "microsoft": {
     "language": "sparksql",
     "language_group": "synapse_pyspark"
    },
    "nteract": {
     "transient": {
      "deleting": false
     }
    }
   },
   "outputs": [],
   "source": [
    "%%sql\n",
    "CREATE OR REPLACE TEMP VIEW logs_src AS \n",
    "SELECT DISTINCT * FROM\n",
    "(SELECT logs.time\n",
    "\t,logs.remote_ip\n",
    "\t,iplocation_src.country_name\n",
    "\t,logs.ip_number\n",
    "\t,logs.request\n",
    "\t,logs.response\n",
    "\t,logs.agent\n",
    "\t,logs.updated_at\n",
    "FROM logs\n",
    "JOIN iplocation_src\n",
    "WHERE ip1 <= ip_number\n",
    "\tAND ip2 >= ip_number);\n",
    "\n",
    "MERGE INTO ctlg_electroniz.sch_silver.tbl_silver_logs c\n",
    "USING logs_src u\n",
    "ON c.remote_ip   = u.remote_ip \n",
    "WHEN NOT MATCHED THEN \n",
    "  INSERT *;\n",
    "\n",
    "SELECT * FROM ctlg_electroniz.sch_silver.tbl_silver_logs LIMIT 5;"
   ]
  },
  {
   "cell_type": "markdown",
   "metadata": {
    "application/vnd.databricks.v1+cell": {
     "cellMetadata": {},
     "inputWidgets": {},
     "nuid": "f841c9e1-cd9b-41c0-886b-b9a695315558",
     "showTitle": false,
     "tableResultSettingsMap": {},
     "title": ""
    },
    "microsoft": {
     "language": "python",
     "language_group": "synapse_pyspark"
    },
    "nteract": {
     "transient": {
      "deleting": false
     }
    }
   },
   "source": [
    "# Implement Data Quality Rule 4 - Process the inventory table"
   ]
  },
  {
   "cell_type": "code",
   "execution_count": 0,
   "metadata": {
    "application/vnd.databricks.v1+cell": {
     "cellMetadata": {
      "byteLimit": 2048000,
      "rowLimit": 10000
     },
     "inputWidgets": {},
     "nuid": "d7656a59-fbc9-4c3b-b6eb-e3df427df5ac",
     "showTitle": false,
     "tableResultSettingsMap": {},
     "title": ""
    },
    "microsoft": {
     "language": "python",
     "language_group": "synapse_pyspark"
    },
    "nteract": {
     "transient": {
      "deleting": false
     }
    }
   },
   "outputs": [],
   "source": [
    "inventory_df = spark.sql(\"SELECT * FROM ctlg_electroniz.sch_bronze.tbl_bronze_inventory\")\n",
    "inventory_df.createOrReplaceTempView(\"inventory\")"
   ]
  },
  {
   "cell_type": "code",
   "execution_count": 0,
   "metadata": {
    "application/vnd.databricks.v1+cell": {
     "cellMetadata": {
      "byteLimit": 2048000,
      "rowLimit": 10000
     },
     "inputWidgets": {},
     "nuid": "37f981a7-eb08-4c2d-bdae-1ee99bc9bd16",
     "showTitle": false,
     "tableResultSettingsMap": {},
     "title": ""
    },
    "collapsed": false,
    "microsoft": {
     "language": "sparksql",
     "language_group": "synapse_pyspark"
    },
    "nteract": {
     "transient": {
      "deleting": false
     }
    }
   },
   "outputs": [],
   "source": [
    "%%sql\n",
    "MERGE INTO ctlg_electroniz.sch_silver.tbl_silver_inventory si\n",
    "USING inventory i\n",
    "ON si.product   = i.product \n",
    "WHEN NOT MATCHED THEN \n",
    "  INSERT *;\n"
   ]
  }
 ],
 "metadata": {
  "application/vnd.databricks.v1+notebook": {
   "computePreferences": null,
   "dashboards": [],
   "environmentMetadata": null,
   "inputWidgetPreferences": null,
   "language": "python",
   "notebookMetadata": {
    "mostRecentlyExecutedCommandWithImplicitDF": {
     "commandId": 4517897651210490,
     "dataframes": [
      "_sqldf"
     ]
    },
    "pythonIndentUnit": 4
   },
   "notebookName": "silver_layer_notebook",
   "widgets": {}
  },
  "dependencies": {
   "lakehouse": {
    "default_lakehouse": "7381f5b4-a268-4521-ac70-e813ffe12dbb",
    "default_lakehouse_name": "Electroniz_Lakehouse",
    "default_lakehouse_workspace_id": "9ac8702b-7d23-461d-b816-aad5ed11c9b0"
   }
  },
  "kernel_info": {
   "name": "synapse_pyspark"
  },
  "kernelspec": {
   "display_name": "Synapse PySpark",
   "language": "Python",
   "name": "synapse_pyspark"
  },
  "language_info": {
   "name": "python"
  },
  "microsoft": {
   "language": "python",
   "language_group": "synapse_pyspark",
   "ms_spell_check": {
    "ms_spell_check_language": "en"
   }
  },
  "nteract": {
   "version": "nteract-front-end@1.0.0"
  },
  "spark_compute": {
   "compute_id": "/trident/default"
  },
  "synapse_widget": {
   "state": {},
   "version": "0.1"
  },
  "widgets": {}
 },
 "nbformat": 4,
 "nbformat_minor": 0
}