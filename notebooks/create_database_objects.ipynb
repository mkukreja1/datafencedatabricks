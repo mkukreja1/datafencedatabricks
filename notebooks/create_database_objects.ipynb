{
 "cells": [
  {
   "cell_type": "code",
   "execution_count": 0,
   "metadata": {
    "application/vnd.databricks.v1+cell": {
     "cellMetadata": {
      "byteLimit": 2048000,
      "implicitDf": true,
      "rowLimit": 10000
     },
     "inputWidgets": {},
     "nuid": "56b191d6-729c-469c-9844-1621c944dcdb",
     "showTitle": true,
     "tableResultSettingsMap": {},
     "title": "Create a new catalog in your metastore"
    }
   },
   "outputs": [],
   "source": [
    "CREATE CATALOG IF NOT EXISTS my_first_catalog;"
   ]
  },
  {
   "cell_type": "code",
   "execution_count": 0,
   "metadata": {
    "application/vnd.databricks.v1+cell": {
     "cellMetadata": {
      "byteLimit": 2048000,
      "implicitDf": true,
      "rowLimit": 10000
     },
     "inputWidgets": {},
     "nuid": "f311918f-784b-4005-943a-b91f8a7abdd1",
     "showTitle": true,
     "tableResultSettingsMap": {},
     "title": "Check for the newly created catalog"
    }
   },
   "outputs": [],
   "source": [
    "SHOW CATALOGS;"
   ]
  },
  {
   "cell_type": "code",
   "execution_count": 0,
   "metadata": {
    "application/vnd.databricks.v1+cell": {
     "cellMetadata": {
      "byteLimit": 2048000,
      "rowLimit": 10000
     },
     "inputWidgets": {},
     "nuid": "d52b0bc6-d6c8-4e1e-be08-c8fde191409c",
     "showTitle": true,
     "tableResultSettingsMap": {},
     "title": "Add a new schema in the newly created catalog."
    }
   },
   "outputs": [],
   "source": [
    "CREATE SCHEMA IF NOT EXISTS my_first_catalog.my_first_schema;"
   ]
  },
  {
   "cell_type": "code",
   "execution_count": 0,
   "metadata": {
    "application/vnd.databricks.v1+cell": {
     "cellMetadata": {},
     "inputWidgets": {},
     "nuid": "b62150eb-da5d-4a34-80ba-e31b53b4da02",
     "showTitle": true,
     "tableResultSettingsMap": {},
     "title": "Create a new table manually using Instructions below"
    }
   },
   "outputs": [],
   "source": []
  },
  {
   "cell_type": "markdown",
   "metadata": {
    "application/vnd.databricks.v1+cell": {
     "cellMetadata": {},
     "inputWidgets": {},
     "nuid": "6a830c99-ce46-4596-a51f-66e4b34deea6",
     "showTitle": false,
     "tableResultSettingsMap": {},
     "title": ""
    }
   },
   "source": [
    "> 1. Download the following file from git: https://github.com/mkukreja1/datafencedatabricks/blob/main/data/all-world-cup-players.json\n",
    "2. Leave the current table running, open a new tab by right clicking on \"Catalog\" on left, then choose \"Open Link in new tab\".\n",
    "3. Navigate to the new tab. \n",
    "4. Under \"my_organization\" click on \"my_first_catalog\" followed by \"my_first_schema\".\n",
    "5. Click on \"Create\" > \"Create Table\"\n",
    "6. On the Add Data screen, browse the all-world-cup-players.json\n",
    "7. Databricks will load a preview of the table, after that click on \"Create Table\".\n",
    "8. You should now see a new table created in your catalog named \"all_world_cup_players\"\n"
   ]
  },
  {
   "cell_type": "markdown",
   "metadata": {
    "application/vnd.databricks.v1+cell": {
     "cellMetadata": {},
     "inputWidgets": {},
     "nuid": "761a12a1-972f-4891-98c8-0e2f87b3f8ef",
     "showTitle": false,
     "tableResultSettingsMap": {},
     "title": ""
    }
   },
   "source": []
  },
  {
   "cell_type": "code",
   "execution_count": 0,
   "metadata": {
    "application/vnd.databricks.v1+cell": {
     "cellMetadata": {},
     "inputWidgets": {},
     "nuid": "8d622cf4-8a23-4850-b458-2a3dc81fff44",
     "showTitle": false,
     "tableResultSettingsMap": {},
     "title": ""
    }
   },
   "outputs": [],
   "source": []
  },
  {
   "cell_type": "code",
   "execution_count": 0,
   "metadata": {
    "application/vnd.databricks.v1+cell": {
     "cellMetadata": {},
     "inputWidgets": {},
     "nuid": "0a22f316-9aa5-412e-86a6-a59e88a4594e",
     "showTitle": false,
     "tableResultSettingsMap": {},
     "title": ""
    }
   },
   "outputs": [],
   "source": []
  },
  {
   "cell_type": "code",
   "execution_count": 0,
   "metadata": {
    "application/vnd.databricks.v1+cell": {
     "cellMetadata": {},
     "inputWidgets": {},
     "nuid": "1ab249bb-8874-4f61-b727-b2f0da88fb31",
     "showTitle": false,
     "tableResultSettingsMap": {},
     "title": ""
    }
   },
   "outputs": [],
   "source": []
  }
 ],
 "metadata": {
  "application/vnd.databricks.v1+notebook": {
   "computePreferences": null,
   "dashboards": [],
   "environmentMetadata": {
    "base_environment": "",
    "environment_version": "2"
   },
   "inputWidgetPreferences": null,
   "language": "sql",
   "notebookMetadata": {
    "mostRecentlyExecutedCommandWithImplicitDF": {
     "commandId": -1,
     "dataframes": [
      "_sqldf"
     ]
    },
    "pythonIndentUnit": 4
   },
   "notebookName": "create_database_objects",
   "widgets": {}
  },
  "language_info": {
   "name": "sql"
  }
 },
 "nbformat": 4,
 "nbformat_minor": 0
}