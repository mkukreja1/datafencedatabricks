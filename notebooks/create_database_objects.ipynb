{
 "cells": [
  {
   "cell_type": "code",
   "execution_count": 0,
   "metadata": {
    "application/vnd.databricks.v1+cell": {
     "cellMetadata": {
      "byteLimit": 2048000,
      "implicitDf": true,
      "rowLimit": 10000
     },
     "inputWidgets": {},
     "nuid": "56b191d6-729c-469c-9844-1621c944dcdb",
     "showTitle": true,
     "tableResultSettingsMap": {},
     "title": "Create a new catalog in your metastore"
    }
   },
   "outputs": [],
   "source": [
    "CREATE CATALOG IF NOT EXISTS my_first_catalog;"
   ]
  },
  {
   "cell_type": "code",
   "execution_count": 0,
   "metadata": {
    "application/vnd.databricks.v1+cell": {
     "cellMetadata": {
      "byteLimit": 2048000,
      "implicitDf": true,
      "rowLimit": 10000
     },
     "inputWidgets": {},
     "nuid": "f311918f-784b-4005-943a-b91f8a7abdd1",
     "showTitle": true,
     "tableResultSettingsMap": {},
     "title": "Check for the newly created catalog"
    }
   },
   "outputs": [],
   "source": [
    "SHOW CATALOGS;"
   ]
  },
  {
   "cell_type": "code",
   "execution_count": 0,
   "metadata": {
    "application/vnd.databricks.v1+cell": {
     "cellMetadata": {
      "byteLimit": 2048000,
      "rowLimit": 10000
     },
     "inputWidgets": {},
     "nuid": "d52b0bc6-d6c8-4e1e-be08-c8fde191409c",
     "showTitle": true,
     "tableResultSettingsMap": {},
     "title": "Add a new schema in the newly created catalog."
    }
   },
   "outputs": [],
   "source": [
    "CREATE SCHEMA IF NOT EXISTS my_first_catalog.my_first_schema;"
   ]
  },
  {
   "cell_type": "code",
   "execution_count": 0,
   "metadata": {
    "application/vnd.databricks.v1+cell": {
     "cellMetadata": {
      "byteLimit": 2048000,
      "rowLimit": 10000
     },
     "inputWidgets": {},
     "nuid": "b61b92ae-661d-4f5b-b778-bff0250b9657",
     "showTitle": false,
     "tableResultSettingsMap": {},
     "title": ""
    }
   },
   "outputs": [],
   "source": [
    "SHOW SCHEMAS;"
   ]
  },
  {
   "cell_type": "code",
   "execution_count": 0,
   "metadata": {
    "application/vnd.databricks.v1+cell": {
     "cellMetadata": {},
     "inputWidgets": {},
     "nuid": "b62150eb-da5d-4a34-80ba-e31b53b4da02",
     "showTitle": true,
     "tableResultSettingsMap": {},
     "title": "Create a new table manually using Instructions in slides"
    }
   },
   "outputs": [],
   "source": []
  },
  {
   "cell_type": "code",
   "execution_count": 0,
   "metadata": {
    "application/vnd.databricks.v1+cell": {
     "cellMetadata": {
      "byteLimit": 2048000,
      "rowLimit": 10000
     },
     "inputWidgets": {},
     "nuid": "85c76643-4d6b-4d1e-9f98-2db3b92cdf9d",
     "showTitle": false,
     "tableResultSettingsMap": {},
     "title": ""
    }
   },
   "outputs": [],
   "source": [
    "USE CATALOG my_first_catalog;\n",
    "USE SCHEMA my_first_schema;\n",
    "SHOW TABLES;"
   ]
  },
  {
   "cell_type": "code",
   "execution_count": 0,
   "metadata": {
    "application/vnd.databricks.v1+cell": {
     "cellMetadata": {
      "byteLimit": 2048000,
      "rowLimit": 10000
     },
     "inputWidgets": {},
     "nuid": "c4739e88-4bfe-48d9-9b49-2725a611794c",
     "showTitle": true,
     "tableResultSettingsMap": {},
     "title": "Exploratory Analysis"
    }
   },
   "outputs": [],
   "source": [
    "SELECT * FROM csv.`/Volumes/my_first_catalog/my_first_schema/my_staging_data/fifa_worldcup.csv`"
   ]
  },
  {
   "cell_type": "code",
   "execution_count": 0,
   "metadata": {
    "application/vnd.databricks.v1+cell": {
     "cellMetadata": {
      "byteLimit": 2048000,
      "rowLimit": 10000
     },
     "inputWidgets": {},
     "nuid": "4607ea27-35b6-4c43-bb76-3b4d837458cf",
     "showTitle": true,
     "tableResultSettingsMap": {},
     "title": "Captains that played in large soccer matches averaging at least 30000 audience"
    }
   },
   "outputs": [],
   "source": [
    "SELECT\n",
    "  p.FullName,\n",
    "  p.Club,\n",
    "  p.Position\n",
    "FROM\n",
    "  my_first_catalog.my_first_schema.all_world_cup_players AS p\n",
    "    JOIN my_first_catalog.my_first_schema.fifa_worldcup AS w\n",
    "      ON p.Year = w.Year\n",
    "WHERE\n",
    "  p.IsCaptain = TRUE\n",
    "  AND w.` Average_attendance ` > 30000"
   ]
  },
  {
   "cell_type": "code",
   "execution_count": 0,
   "metadata": {
    "application/vnd.databricks.v1+cell": {
     "cellMetadata": {
      "byteLimit": 2048000,
      "rowLimit": 10000
     },
     "inputWidgets": {},
     "nuid": "8d622cf4-8a23-4850-b458-2a3dc81fff44",
     "showTitle": true,
     "tableResultSettingsMap": {},
     "title": "Create a view"
    }
   },
   "outputs": [],
   "source": [
    "CREATE VIEW IF NOT EXISTS my_first_catalog.my_first_schema.vw_captains_attendance AS\n",
    "SELECT\n",
    "  p.FullName,\n",
    "  p.Club,\n",
    "  p.Position\n",
    "FROM\n",
    "  my_first_catalog.my_first_schema.all_world_cup_players AS p\n",
    "    JOIN my_first_catalog.my_first_schema.fifa_worldcup AS w\n",
    "      ON p.Year = w.Year\n",
    "WHERE\n",
    "  p.IsCaptain = TRUE\n",
    "  AND w.` Average_attendance ` > 30000"
   ]
  },
  {
   "cell_type": "code",
   "execution_count": 0,
   "metadata": {
    "application/vnd.databricks.v1+cell": {
     "cellMetadata": {
      "byteLimit": 2048000,
      "rowLimit": 10000
     },
     "inputWidgets": {},
     "nuid": "b425c1dd-c67e-408f-9ad0-65e56e8f5af3",
     "showTitle": false,
     "tableResultSettingsMap": {},
     "title": ""
    }
   },
   "outputs": [],
   "source": [
    "USE CATALOG my_first_catalog;\n",
    "USE SCHEMA my_first_schema;\n",
    "SHOW VIEWS;"
   ]
  },
  {
   "cell_type": "code",
   "execution_count": 0,
   "metadata": {
    "application/vnd.databricks.v1+cell": {
     "cellMetadata": {
      "byteLimit": 2048000,
      "rowLimit": 10000
     },
     "inputWidgets": {},
     "nuid": "8226b556-3c4e-4f32-aef0-68eadf7bd6b0",
     "showTitle": true,
     "tableResultSettingsMap": {},
     "title": "Query the view"
    }
   },
   "outputs": [],
   "source": [
    "SELECT * FROM my_first_catalog.my_first_schema.vw_captains_attendance;"
   ]
  },
  {
   "cell_type": "code",
   "execution_count": 0,
   "metadata": {
    "application/vnd.databricks.v1+cell": {
     "cellMetadata": {
      "byteLimit": 2048000,
      "rowLimit": 10000
     },
     "inputWidgets": {},
     "nuid": "acb7b5ed-27fa-4bfc-9ec5-c59cbeb01841",
     "showTitle": true,
     "tableResultSettingsMap": {},
     "title": "Create a Dynamic view"
    }
   },
   "outputs": [],
   "source": [
    "CREATE VIEW IF NOT EXISTS my_first_catalog.my_first_schema.vw_secure_all_world_cup_players AS\n",
    "SELECT\n",
    "  CASE\n",
    "    WHEN is_member('highclassification') THEN DateOfBirth\n",
    "    ELSE '****-**-**'\n",
    "  END as RedactedDateOfBirth,\n",
    "  *\n",
    "FROM\n",
    "  my_first_catalog.my_first_schema.all_world_cup_players;"
   ]
  },
  {
   "cell_type": "code",
   "execution_count": 0,
   "metadata": {
    "application/vnd.databricks.v1+cell": {
     "cellMetadata": {
      "byteLimit": 2048000,
      "rowLimit": 10000
     },
     "inputWidgets": {},
     "nuid": "5efaf1b8-1ded-4247-a84d-59bc9731d1c8",
     "showTitle": true,
     "tableResultSettingsMap": {},
     "title": "Query the dynamic view"
    }
   },
   "outputs": [],
   "source": [
    "SELECT * FROM  my_first_catalog.my_first_schema.vw_secure_all_world_cup_players;"
   ]
  },
  {
   "cell_type": "code",
   "execution_count": 0,
   "metadata": {
    "application/vnd.databricks.v1+cell": {
     "cellMetadata": {
      "byteLimit": 2048000,
      "rowLimit": 10000
     },
     "inputWidgets": {},
     "nuid": "c5841922-2fbf-4eb7-9d4e-717bc0f468b3",
     "showTitle": true,
     "tableResultSettingsMap": {},
     "title": "Create a column masking function"
    }
   },
   "outputs": [],
   "source": [
    "CREATE OR REPLACE FUNCTION my_first_catalog.my_first_schema.format_club(Club STRING)\n",
    "  RETURNS STRING\n",
    "  RETURN regexp_replace(Club, '[^a-zA-Z0-9]', ' ')"
   ]
  },
  {
   "cell_type": "code",
   "execution_count": 0,
   "metadata": {
    "application/vnd.databricks.v1+cell": {
     "cellMetadata": {
      "byteLimit": 2048000,
      "rowLimit": 10000
     },
     "inputWidgets": {},
     "nuid": "9b6ee285-ba18-4807-ad9c-e75748a215b5",
     "showTitle": false,
     "tableResultSettingsMap": {},
     "title": ""
    }
   },
   "outputs": [],
   "source": [
    "SELECT\n",
    "  my_first_catalog.my_first_schema.format_club(Club)\n",
    "FROM\n",
    "  my_first_catalog.my_first_schema.all_world_cup_players;"
   ]
  }
 ],
 "metadata": {
  "application/vnd.databricks.v1+notebook": {
   "computePreferences": null,
   "dashboards": [],
   "environmentMetadata": {
    "base_environment": "",
    "environment_version": "2"
   },
   "inputWidgetPreferences": null,
   "language": "sql",
   "notebookMetadata": {
    "mostRecentlyExecutedCommandWithImplicitDF": {
     "commandId": -1,
     "dataframes": [
      "_sqldf"
     ]
    },
    "pythonIndentUnit": 4
   },
   "notebookName": "create_database_objects",
   "widgets": {}
  },
  "language_info": {
   "name": "sql"
  }
 },
 "nbformat": 4,
 "nbformat_minor": 0
}