{
 "cells": [
  {
   "cell_type": "code",
   "execution_count": 0,
   "metadata": {
    "application/vnd.databricks.v1+cell": {
     "cellMetadata": {
      "byteLimit": 2048000,
      "rowLimit": 10000
     },
     "inputWidgets": {},
     "nuid": "dfbf0933-1fcc-44e1-a209-6306823dc684",
     "showTitle": false,
     "tableResultSettingsMap": {},
     "title": ""
    }
   },
   "outputs": [],
   "source": [
    "import dlt\n",
    "\n",
    "@dlt.table\n",
    "def dlt_customers_count_products():\n",
    "  facts = spark.readStream.table(\"my_first_catalog.my_first_schema.dlt_transactions\")\n",
    "  dims = spark.read.table(\"my_first_catalog.my_first_schema.dlt_customers\")\n",
    "\n",
    "  return (\n",
    "    facts.join(dims, on=\"customer_id\", how=\"inner\").groupBy(\"customer_id\").count()\n",
    "  )"
   ]
  }
 ],
 "metadata": {
  "application/vnd.databricks.v1+notebook": {
   "computePreferences": null,
   "dashboards": [],
   "environmentMetadata": {
    "base_environment": "",
    "environment_version": "2"
   },
   "inputWidgetPreferences": null,
   "language": "python",
   "notebookMetadata": {
    "pythonIndentUnit": 4
   },
   "notebookName": "dlt_customers_count_products",
   "widgets": {}
  },
  "language_info": {
   "name": "python"
  }
 },
 "nbformat": 4,
 "nbformat_minor": 0
}