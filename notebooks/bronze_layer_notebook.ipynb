{
 "cells": [
  {
   "cell_type": "code",
   "execution_count": 0,
   "metadata": {
    "application/vnd.databricks.v1+cell": {
     "cellMetadata": {
      "byteLimit": 2048000,
      "rowLimit": 10000
     },
     "inputWidgets": {},
     "nuid": "7b3e0da1-480e-4899-b180-088d935aa1b6",
     "showTitle": false,
     "tableResultSettingsMap": {},
     "title": ""
    }
   },
   "outputs": [],
   "source": [
    "from pyspark.sql.types import StructType, StructField, IntegerType, StringType,array,ArrayType,DateType,TimestampType,FloatType"
   ]
  },
  {
   "cell_type": "code",
   "execution_count": 0,
   "metadata": {
    "application/vnd.databricks.v1+cell": {
     "cellMetadata": {
      "byteLimit": 2048000,
      "implicitDf": true,
      "rowLimit": 10000
     },
     "inputWidgets": {},
     "nuid": "2ffba97a-f9e9-46af-b8bf-49e01a5464c7",
     "showTitle": false,
     "tableResultSettingsMap": {
      "0": {
       "dataGridStateBlob": "{\"version\":1,\"tableState\":{\"columnPinning\":{\"left\":[\"#row_number#\"],\"right\":[]},\"columnSizing\":{},\"columnVisibility\":{}},\"settings\":{\"columns\":{}},\"syncTimestamp\":1752703530391}",
       "filterBlob": null,
       "queryPlanFiltersBlob": null,
       "tableResultIndex": 0
      }
     },
     "title": ""
    }
   },
   "outputs": [],
   "source": [
    "df_customer_cdc = (\n",
    "    spark.read.option(\"header\", \"true\")\n",
    "    .option(\"inferSchema\", \"true\")\n",
    "    .csv(\n",
    "        \"/Volumes/ctlg_electroniz/sch_bronze/ext_vol_cdc/store_transactions/customers/\"\n",
    "    )\n",
    ")\n",
    "display(df_customer_cdc)\n",
    "df_customer_cdc.createOrReplaceTempView(\"df_customer_cdc\")"
   ]
  },
  {
   "cell_type": "code",
   "execution_count": 0,
   "metadata": {
    "application/vnd.databricks.v1+cell": {
     "cellMetadata": {
      "byteLimit": 2048000,
      "implicitDf": true,
      "rowLimit": 10000
     },
     "inputWidgets": {},
     "nuid": "22ef89b9-f5bd-4cf7-be4c-e2956e397555",
     "showTitle": false,
     "tableResultSettingsMap": {},
     "title": ""
    }
   },
   "outputs": [],
   "source": [
    "%sql\n",
    "MERGE INTO\n",
    "  ctlg_electroniz.sch_bronze.tbl_bronze_customers\n",
    "USING\n",
    "  df_customer_cdc\n",
    "ON\n",
    "  ctlg_electroniz.sch_bronze.tbl_bronze_customers.customer_id = df_customer_cdc.customer_id\n",
    "WHEN MATCHED THEN UPDATE SET\n",
    "  ctlg_electroniz.sch_bronze.tbl_bronze_customers.customer_name = df_customer_cdc.customer_name,\n",
    "  ctlg_electroniz.sch_bronze.tbl_bronze_customers.address = df_customer_cdc.address,\n",
    "  ctlg_electroniz.sch_bronze.tbl_bronze_customers.city = df_customer_cdc.city,\n",
    "  ctlg_electroniz.sch_bronze.tbl_bronze_customers.postalcode = df_customer_cdc.postalcode,\n",
    "  ctlg_electroniz.sch_bronze.tbl_bronze_customers.country = df_customer_cdc.country,\n",
    "  ctlg_electroniz.sch_bronze.tbl_bronze_customers.phone = df_customer_cdc.phone,\n",
    "  ctlg_electroniz.sch_bronze.tbl_bronze_customers.email = df_customer_cdc.email,\n",
    "  ctlg_electroniz.sch_bronze.tbl_bronze_customers.credit_card = df_customer_cdc.credit_card,\n",
    "  ctlg_electroniz.sch_bronze.tbl_bronze_customers.updated_at = df_customer_cdc.updated_at\n",
    "WHEN NOT MATCHED THEN INSERT (\n",
    "    ctlg_electroniz.sch_bronze.tbl_bronze_customers.customer_id,\n",
    "    ctlg_electroniz.sch_bronze.tbl_bronze_customers.customer_name,\n",
    "    ctlg_electroniz.sch_bronze.tbl_bronze_customers.address,\n",
    "    ctlg_electroniz.sch_bronze.tbl_bronze_customers.city,\n",
    "    ctlg_electroniz.sch_bronze.tbl_bronze_customers.postalcode,\n",
    "    ctlg_electroniz.sch_bronze.tbl_bronze_customers.country,\n",
    "    ctlg_electroniz.sch_bronze.tbl_bronze_customers.phone,\n",
    "    ctlg_electroniz.sch_bronze.tbl_bronze_customers.email,\n",
    "    ctlg_electroniz.sch_bronze.tbl_bronze_customers.credit_card,\n",
    "    ctlg_electroniz.sch_bronze.tbl_bronze_customers.updated_at\n",
    "  )\n",
    "  VALUES (\n",
    "    df_customer_cdc.customer_id,\n",
    "    df_customer_cdc.customer_name,\n",
    "    df_customer_cdc.address,\n",
    "    df_customer_cdc.city,\n",
    "    df_customer_cdc.postalcode,\n",
    "    df_customer_cdc.country,\n",
    "    df_customer_cdc.phone,\n",
    "    df_customer_cdc.email,\n",
    "    df_customer_cdc.credit_card,\n",
    "    df_customer_cdc.updated_at\n",
    "  );"
   ]
  },
  {
   "cell_type": "code",
   "execution_count": 0,
   "metadata": {
    "application/vnd.databricks.v1+cell": {
     "cellMetadata": {
      "byteLimit": 2048000,
      "rowLimit": 10000
     },
     "inputWidgets": {},
     "nuid": "e99ba7dc-77a3-4e93-bc30-39126bede78b",
     "showTitle": false,
     "tableResultSettingsMap": {},
     "title": ""
    }
   },
   "outputs": [],
   "source": [
    "from delta.tables import *\n",
    "deltaTableOrders = DeltaTable.forName(spark, \"ctlg_electroniz.sch_bronze.tbl_bronze_orders\")"
   ]
  },
  {
   "cell_type": "code",
   "execution_count": 0,
   "metadata": {
    "application/vnd.databricks.v1+cell": {
     "cellMetadata": {
      "byteLimit": 2048000,
      "rowLimit": 10000
     },
     "inputWidgets": {},
     "nuid": "a9e6abc1-6d02-4979-8fee-e5c380ab9532",
     "showTitle": false,
     "tableResultSettingsMap": {},
     "title": ""
    }
   },
   "outputs": [],
   "source": [
    "df_orders_cdc = (\n",
    "    spark.read.option(\"header\", \"true\")\n",
    "    .option(\"inferSchema\", \"false\")\n",
    "    .csv(\n",
    "        \"/Volumes/ctlg_electroniz/sch_bronze/ext_vol_cdc/store_transactions/orders/\"\n",
    "    )\n",
    ")\n",
    "display(df_orders_cdc)\n",
    "df_orders_cdc.createOrReplaceTempView(\"df_orders_cdc\")\n",
    "df_orders_cdc.printSchema()"
   ]
  },
  {
   "cell_type": "code",
   "execution_count": 0,
   "metadata": {
    "application/vnd.databricks.v1+cell": {
     "cellMetadata": {
      "byteLimit": 2048000,
      "rowLimit": 10000
     },
     "inputWidgets": {},
     "nuid": "b23cf34e-ce2a-42d6-bdc5-0040909501a0",
     "showTitle": false,
     "tableResultSettingsMap": {},
     "title": ""
    }
   },
   "outputs": [],
   "source": [
    "deltaTableOrders.alias('orders') \\\n",
    "  .merge(\n",
    "    df_orders_cdc.alias('df_orders_cdc'),\n",
    "    'orders.order_number = df_orders_cdc.order_number'\n",
    "  ) \\\n",
    "  .whenMatchedUpdateAll() \\\n",
    "  .whenNotMatchedInsertAll() \\\n",
    "  .execute()"
   ]
  },
  {
   "cell_type": "code",
   "execution_count": 0,
   "metadata": {
    "application/vnd.databricks.v1+cell": {
     "cellMetadata": {
      "byteLimit": 2048000,
      "rowLimit": 10000
     },
     "inputWidgets": {},
     "nuid": "423f45d1-8514-42b4-958b-b6e8ce84e696",
     "showTitle": false,
     "tableResultSettingsMap": {},
     "title": ""
    }
   },
   "outputs": [],
   "source": [
    "df_ecommerce_cdc=spark.read.option(\"multiline\", \"true\").json(\"/Volumes/ctlg_electroniz/sch_bronze/ext_vol_cdc/ecommerce_transactions/2025/07/15/\")\n",
    "display(df_ecommerce_cdc)"
   ]
  },
  {
   "cell_type": "code",
   "execution_count": 0,
   "metadata": {
    "application/vnd.databricks.v1+cell": {
     "cellMetadata": {
      "byteLimit": 2048000,
      "implicitDf": true,
      "rowLimit": 10000
     },
     "inputWidgets": {},
     "nuid": "08a47be5-cf6b-4386-ba01-1248ddc3eba4",
     "showTitle": false,
     "tableResultSettingsMap": {},
     "title": ""
    }
   },
   "outputs": [],
   "source": [
    "%sql\n",
    "CREATE TABLE IF NOT EXISTS ctlg_electroniz.sch_bronze.tbl_bronze_ecommerce (\n",
    "  customer_name STRING,\n",
    "  address STRING,\n",
    "  city STRING,\n",
    "  country STRING,\n",
    "  currency STRING,\n",
    "  email STRING,\n",
    "  order_date STRING,\n",
    "  order_mode STRING,\n",
    "  order_number STRING,\n",
    "  phone STRING,\n",
    "  postalcode STRING,\n",
    "  product_name STRING,\n",
    "  sale_price STRING\n",
    ")"
   ]
  },
  {
   "cell_type": "code",
   "execution_count": 0,
   "metadata": {
    "application/vnd.databricks.v1+cell": {
     "cellMetadata": {
      "byteLimit": 2048000,
      "rowLimit": 10000
     },
     "inputWidgets": {},
     "nuid": "4d301239-ce99-46de-bcce-36621ca36b93",
     "showTitle": false,
     "tableResultSettingsMap": {},
     "title": ""
    }
   },
   "outputs": [],
   "source": [
    "ECOMMERCE_SCHEMA =[\n",
    "    ('customer_name', StringType()),\n",
    "    ('address', StringType()),\n",
    "    ('city', StringType()),\n",
    "    ('country', StringType()),\n",
    "    ('currency', StringType()),\n",
    "    ('email', StringType()),\n",
    "    ('order_date', StringType()),\n",
    "    ('order_mode', StringType()),\n",
    "    ('order_number', StringType()),\n",
    "    ('phone', StringType()),\n",
    "    ('postalcode', StringType()),\n",
    "    ('product_name', StringType()),\n",
    "    ('sale_price', StringType())\n",
    "]\n",
    "\n",
    "ecommerce_fields = [StructField(*field) for field in ECOMMERCE_SCHEMA]\n",
    "schema_ecomm = StructType(ecommerce_fields)\n",
    "\n",
    "df_ecommerce_cdc = spark.read.json(path=\"/Volumes/ctlg_electroniz/sch_bronze/ext_vol_cdc/ecommerce_transactions/2025/07/15/\",schema=schema_ecomm,multiLine=True) \n",
    "#df_ecommerce_cdc.printSchema()\n",
    "#display(df_ecommerce_cdc)\n",
    "df_ecommerce_cdc.writeTo(\"ctlg_electroniz.sch_bronze.tbl_bronze_ecommerce\").createOrReplace()\n",
    "\n",
    "deltaTableEcommerce = DeltaTable.forName(spark, \"ctlg_electroniz.sch_bronze.tbl_bronze_ecommerce\")\n",
    "deltaTableEcommerce.alias('ecommerce') \\\n",
    "  .merge(\n",
    "    df_ecommerce_cdc.alias('df_ecommerce_cdc'),\n",
    "    'ecommerce.order_number = df_ecommerce_cdc.order_number'\n",
    "  ) \\\n",
    "  .whenMatchedUpdateAll() \\\n",
    "  .whenNotMatchedInsertAll() \\\n",
    "  .execute()"
   ]
  },
  {
   "cell_type": "code",
   "execution_count": 0,
   "metadata": {
    "application/vnd.databricks.v1+cell": {
     "cellMetadata": {
      "byteLimit": 2048000,
      "rowLimit": 10000
     },
     "inputWidgets": {},
     "nuid": "4ee10a70-8e45-4bac-9459-b5b17eff08e5",
     "showTitle": false,
     "tableResultSettingsMap": {
      "0": {
       "dataGridStateBlob": "{\"version\":1,\"tableState\":{\"columnPinning\":{\"left\":[\"#row_number#\"],\"right\":[]},\"columnSizing\":{},\"columnVisibility\":{}},\"settings\":{\"columns\":{}},\"syncTimestamp\":1752804868511}",
       "filterBlob": null,
       "queryPlanFiltersBlob": null,
       "tableResultIndex": 0
      }
     },
     "title": ""
    }
   },
   "outputs": [],
   "source": [
    "ILOCATION_SCHEMA =[\n",
    "    ('ip1', IntegerType()),\n",
    "    ('ip2', IntegerType()),\n",
    "    ('country_code', StringType()),\n",
    "    ('country_name', StringType())\n",
    "]\n",
    "\n",
    "fields = [StructField(*field) for field in ILOCATION_SCHEMA]\n",
    "schema_iplocation = StructType(fields)\n",
    "\n",
    "df_iplocation_cdc = (\n",
    "    spark.read.option(\"header\", \"true\")\n",
    "    .option(\"inferSchema\", \"true\")\n",
    "    .schema(schema_iplocation)\n",
    "    .csv(\n",
    "        \"/Volumes/ctlg_electroniz/sch_bronze/ext_vol_cdc/iplocation/\"\n",
    "    )\n",
    ")\n",
    "display(df_iplocation_cdc)\n",
    "df_iplocation_cdc.createOrReplaceTempView(\"df_iplocation_cdc\")\n",
    "df_iplocation_cdc.printSchema()"
   ]
  },
  {
   "cell_type": "code",
   "execution_count": 0,
   "metadata": {
    "application/vnd.databricks.v1+cell": {
     "cellMetadata": {
      "byteLimit": 2048000,
      "implicitDf": true,
      "rowLimit": 10000
     },
     "inputWidgets": {},
     "nuid": "7a91bccb-b9fb-45b8-aebd-fb9091a7b553",
     "showTitle": false,
     "tableResultSettingsMap": {},
     "title": ""
    }
   },
   "outputs": [],
   "source": [
    "%sql\n",
    "CREATE TABLE IF NOT EXISTS ctlg_electroniz.sch_bronze.tbl_bronze_iplocation (\n",
    "  ip1 INTEGER,\n",
    "  ip2 INTEGER,\n",
    "  country_code STRING,\n",
    "  country_name STRING\n",
    ");"
   ]
  },
  {
   "cell_type": "code",
   "execution_count": 0,
   "metadata": {
    "application/vnd.databricks.v1+cell": {
     "cellMetadata": {
      "byteLimit": 2048000,
      "rowLimit": 10000
     },
     "inputWidgets": {},
     "nuid": "ada4288b-4e04-4d25-9d92-cb62acb5dffe",
     "showTitle": false,
     "tableResultSettingsMap": {},
     "title": ""
    }
   },
   "outputs": [],
   "source": [
    "%%sql\n",
    "CREATE OR REPLACE TEMP VIEW iplocation_src AS \n",
    "SELECT DISTINCT * FROM df_iplocation_cdc;\n",
    "\n",
    "DELETE FROM ctlg_electroniz.sch_bronze.tbl_bronze_iplocation;\n",
    "INSERT INTO ctlg_electroniz.sch_bronze.tbl_bronze_iplocation SELECT * FROM iplocation_src;\n"
   ]
  }
 ],
 "metadata": {
  "application/vnd.databricks.v1+notebook": {
   "computePreferences": null,
   "dashboards": [],
   "environmentMetadata": {
    "base_environment": "",
    "environment_version": "2"
   },
   "inputWidgetPreferences": null,
   "language": "python",
   "notebookMetadata": {
    "mostRecentlyExecutedCommandWithImplicitDF": {
     "commandId": 6781341528409806,
     "dataframes": [
      "_sqldf"
     ]
    },
    "pythonIndentUnit": 4
   },
   "notebookName": "bronze_layer_notebook",
   "widgets": {}
  },
  "language_info": {
   "name": "python"
  }
 },
 "nbformat": 4,
 "nbformat_minor": 0
}